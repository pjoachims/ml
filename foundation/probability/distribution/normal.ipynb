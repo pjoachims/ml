{
 "cells": [
  {
   "cell_type": "markdown",
   "metadata": {},
   "source": [
    "#  Normal distribution"
   ]
  },
  {
   "cell_type": "code",
   "execution_count": 8,
   "metadata": {},
   "outputs": [
    {
     "data": {
      "application/vnd.jupyter.widget-view+json": {
       "model_id": "f180bdc7c40d49389319370237d82405",
       "version_major": 2,
       "version_minor": 0
      },
      "text/plain": [
       "interactive(children=(IntText(value=2, description='xmin'), IntText(value=8, description='xmax'), IntSlider(va…"
      ]
     },
     "metadata": {},
     "output_type": "display_data"
    }
   ],
   "source": [
    "from scipy.stats import norm\n",
    "import matplotlib.pyplot as plt\n",
    "import numpy as np\n",
    "from ipywidgets import interactive, fixed\n",
    "from ipywidgets.widgets import IntSlider, FloatSlider, IntText\n",
    "\n",
    "def plot_dist(samples, pdf, cdf=None, x=None, title=None, **parameters):\n",
    "    if parameters is None:\n",
    "        parameters = {}\n",
    "    if callable(samples):\n",
    "        samples = samples(size=1000, **parameters)\n",
    "    if x is None:\n",
    "        minmax = max(abs(samples))\n",
    "        x = np.linspace(-minmax, minmax, 100)\n",
    "\n",
    "\n",
    "    # Init figure\n",
    "    fig, ax = plt.subplots()\n",
    "    ax.set_facecolor('#f0f0f0')\n",
    "    ax.set_xlim(min(x), max(x))\n",
    "    ax.hist(samples, color=\"grey\", edgecolor=\"white\", alpha=0.5, density=True)\n",
    "    ax.plot(x, pdf(x, **parameters), label=\"PDF\", lw=2, color=\"#1f77b4\")\n",
    "    ax.plot(x, cdf(x, **parameters), label=\"CDF\", lw=2, color=\"orange\")\n",
    "\n",
    "    ax.legend()\n",
    "    # p.grid.grid_line_color=\"white\"\n",
    "    # p.line(x, pdf(x, **func_kw), line_color=color(0), line_width=2, legend_label=\"PDF\")\n",
    "    # p.line(x, cdf(x, **func_kw), line_color=\"orange\", line_width=2, legend_label=\"CDF\")\n",
    "\n",
    "    # p.y_range.start = 0\n",
    "    # p.legend.location = \"center_right\"\n",
    "    # p.legend.background_fill_color = \"#fefefe\"\n",
    "    # p.xaxis.axis_label = 'x'\n",
    "    # p.yaxis.axis_label = 'Pr(x)'\n",
    "    return fig, ax\n",
    "\n",
    "def plot_normal(**parameters):\n",
    "    xmin = None\n",
    "    if \"xmin\" in parameters:\n",
    "        xmin = parameters.pop(\"xmin\")\n",
    "    xmax = None\n",
    "    if \"xmax\" in parameters:\n",
    "        xmax = parameters.pop(\"xmax\")\n",
    "    if xmin is None or xmax is None:\n",
    "        x = None\n",
    "    else:\n",
    "        x = np.linspace(xmin, xmax, 100)\n",
    "    return plot_dist(norm.rvs, norm.pdf, norm.cdf, x, **parameters)\n",
    "    \n",
    "# plot_normal()\n",
    "interactive(\n",
    "    plot_normal, \n",
    "    # x=fixed(np.linspace(-5, 5, 100)),\n",
    "    # x=None,\n",
    "    xmin=IntText(2, description=\"xmin\"),\n",
    "    xmax=IntText(8, description=\"xmax\"),\n",
    "    loc=IntSlider(0, min=-10, max=10, step=1, continuous_update=False),\n",
    "    scale=FloatSlider(1, min=0.1, max=4, step=.1, continuous_update=False)\n",
    ")"
   ]
  }
 ],
 "metadata": {
  "interpreter": {
   "hash": "a010474af4e729c5b25d0b6f57bdb05db0edd92c7816e4c04318ac3f6709cba8"
  },
  "kernelspec": {
   "display_name": "Python 3.8.5 64-bit ('ml': conda)",
   "language": "python",
   "name": "python3"
  },
  "language_info": {
   "codemirror_mode": {
    "name": "ipython",
    "version": 3
   },
   "file_extension": ".py",
   "mimetype": "text/x-python",
   "name": "python",
   "nbconvert_exporter": "python",
   "pygments_lexer": "ipython3",
   "version": "3.8.5"
  },
  "orig_nbformat": 4
 },
 "nbformat": 4,
 "nbformat_minor": 2
}
